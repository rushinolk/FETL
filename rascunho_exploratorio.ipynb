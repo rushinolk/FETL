{
 "cells": [
  {
   "cell_type": "code",
   "execution_count": null,
   "id": "61cde4e5",
   "metadata": {},
   "outputs": [],
   "source": [
    "import requests\n",
    "import pandas as pd\n",
    "\n"
   ]
  },
  {
   "cell_type": "code",
   "execution_count": null,
   "id": "d53ac8b2",
   "metadata": {},
   "outputs": [],
   "source": [
    "\n",
    "\n",
    "print(\"Iniciando a extração dos dados\")\n",
    "api_url = 'https://fakestoreapi.com/products'\n",
    "\n",
    "# Faz requisição para pegar na API\n",
    "response = requests.get(api_url, timeout=10)\n",
    "# Verifica se a porta foi aberta\n",
    "print(response.raise_for_status())\n",
    "\n",
    "# Guarda dados \n",
    "raw_data = response.json()\n"
   ]
  },
  {
   "cell_type": "code",
   "execution_count": null,
   "id": "e069c6ba",
   "metadata": {},
   "outputs": [],
   "source": [
    "df = pd.DataFrame(raw_data)\n",
    "df"
   ]
  },
  {
   "cell_type": "code",
   "execution_count": null,
   "id": "42fe0efa",
   "metadata": {},
   "outputs": [],
   "source": [
    "df.columns"
   ]
  },
  {
   "cell_type": "code",
   "execution_count": null,
   "id": "a277692c",
   "metadata": {},
   "outputs": [],
   "source": [
    "df_colunas = df[['id','title','price','category','rating']]"
   ]
  },
  {
   "cell_type": "code",
   "execution_count": null,
   "id": "ed6c2798",
   "metadata": {},
   "outputs": [],
   "source": [
    "df_selecionado['rating_rate'] = df_selecionado['rating'].apply(lambda r: r.get('rate', 0))\n",
    "df_selecionado['rating_count'] = df_selecionado['rating'].apply(lambda r: r.get('count', 0))\n"
   ]
  }
 ],
 "metadata": {
  "kernelspec": {
   "display_name": "venv",
   "language": "python",
   "name": "python3"
  },
  "language_info": {
   "codemirror_mode": {
    "name": "ipython",
    "version": 3
   },
   "file_extension": ".py",
   "mimetype": "text/x-python",
   "name": "python",
   "nbconvert_exporter": "python",
   "pygments_lexer": "ipython3",
   "version": "3.13.3"
  }
 },
 "nbformat": 4,
 "nbformat_minor": 5
}
